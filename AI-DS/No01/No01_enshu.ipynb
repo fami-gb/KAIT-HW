{
 "cells": [
  {
   "cell_type": "markdown",
   "metadata": {},
   "source": [
    "# 演習 1-1  \n",
    "PythonのリストとNumPy配列に対する**加算後のスライス処理**の実行速度を比較し、結果に基づいて考察を行え。\n",
    "\n",
    "## 実験の目的  \n",
    "PythonのリストとNumPy配列における処理速度の違いを、**処理の繰り返しによって明確に体感する**ことを目的とする。<br>\n",
    "特に、処理単位を「加算処理＋スライス処理」とし、その繰り返し回数を変化させることで、処理性能の差がどのように顕在化するかを観察し、NumPyの高速性の要因を考察する。\n",
    "\n",
    "## 実施条件\n",
    "- 対象とする配列の要素数は **10万要素** とし、**整数型（int32）**とする。\n",
    "- 処理単位は、以下の2操作を連続して1回とする：\n",
    "  - 配列全体の各要素に `+5` を加える加算処理\n",
    "  - インデックス範囲 `[1000:2000]` を取り出すスライス処理\n",
    "- 上記の処理単位を、**10回・100回・1000回** の3通りで繰り返し実行する。\n",
    "- 各条件について、**処理全体を5回測定し、そのうち処理時間が短い上位3回の平均**を計測結果とする。\n",
    "- PythonのリストおよびNumPy配列のそれぞれについて同様の試行を行うこと。\n",
    "- 以上により、**3通りの試行回数 × 2種類のデータ構造 = 計6件の測定結果**を得ること。\n",
    "- 測定結果に基づき、**処理速度の違いや、試行回数の増加によって差が顕著になる様子、およびその要因について考察を行え。**\n",
    "\n",
    "## 提出物(最後のmarkdownのセルに記述する)\n",
    "- 各条件における処理時間の記録（合計6件）と比較\n",
    "- 処理性能の差についての考察（原因や仕組みに対する仮説を含めること）\n",
    "\n",
    "## 参考\n",
    "練習1-3-9のコードで処理速度を計測する方法を提示している\n",
    "\n",
    "## 補足(並べ替えについて)\n",
    "Pythonのリストには並べ替えの関数が用意されている。<br>\n",
    "この機能を使って、計測時間をリストに格納してからsort関数を利用することにより、処理時間の短い順に得ることができる。"
   ]
  },
  {
   "cell_type": "code",
   "execution_count": 2,
   "metadata": {},
   "outputs": [
    {
     "name": "stdout",
     "output_type": "stream",
     "text": [
      "[7, 6, 9, 1, 3, 5, 2, 4, 8]\n",
      "[1, 2, 3, 4, 5, 6, 7, 8, 9]\n"
     ]
    }
   ],
   "source": [
    "# 並べ替えの例\n",
    "a = [7,6,9,1,3,5,2,4,8]\n",
    "print(a)\n",
    "\n",
    "a.sort() # 並べ替え\n",
    "print(a)"
   ]
  },
  {
   "cell_type": "markdown",
   "metadata": {},
   "source": [
    "## データ準備\n",
    "* 要素数は10万\n",
    "* 整数（0,1,2,....,99999)\n",
    "* Numpy配列は`int32`型で作成する"
   ]
  },
  {
   "cell_type": "code",
   "execution_count": 3,
   "metadata": {},
   "outputs": [
    {
     "name": "stdout",
     "output_type": "stream",
     "text": [
      "データの準備が完了しました。\n"
     ]
    }
   ],
   "source": [
    "# ステップ１のコード\n",
    "import numpy as np\n",
    "\n",
    "# Pythonリストの作成\n",
    "py_list = list(range(100000))\n",
    "\n",
    "# NumPy配列の作成（int32型で明示）\n",
    "np_array = np.array(py_list, dtype=np.int32)\n",
    "\n",
    "print(\"データの準備が完了しました。\")"
   ]
  },
  {
   "cell_type": "markdown",
   "metadata": {},
   "source": [
    "## 関数定義\n",
    "* Pythonのリストに各要素に対して5加算し、スライスする処理を指定回繰り返す関数 `process_py_list`\n",
    "* NumPy配列に各要素に対して5加算し、スラうすする処理を指定回数繰り返す関数 `process_np_array`\n",
    "\n",
    "を次のコードセルに定義する<br>\n",
    "関数内のpassを削除して、適切な処理を追加する"
   ]
  },
  {
   "cell_type": "code",
   "execution_count": 4,
   "metadata": {},
   "outputs": [],
   "source": [
    "# Pythonのリストに各要素に対して5加算し、スライスする処理を指定回繰り返す関数\n",
    "# 引数: pl - Pythonリスト, n - 繰り返し回数\n",
    "# 戻り値: なし\n",
    "def process_py_list(pl, n):\n",
    "    for _ in range(n):\n",
    "        for j in range(len(pl)):\n",
    "            pl[j] += 5\n",
    "        pl[0:n]\n",
    "\n",
    "# NumPy配列に各要素に対して5加算し、スライスする処理を指定回繰り返す関数\n",
    "# 引数: na - NumPy配列, n - 繰り返し回数\n",
    "# 戻り値: なし\n",
    "def process_np_array(na, n):\n",
    "    for _ in range(n):\n",
    "        na += 5\n",
    "        na[0:n]"
   ]
  },
  {
   "cell_type": "markdown",
   "metadata": {},
   "source": [
    "## 関数テスト\n",
    "関数が正しく動作しているか確認する<br>\n",
    "（試しに１回処理して時間を計測している）"
   ]
  },
  {
   "cell_type": "code",
   "execution_count": 5,
   "metadata": {},
   "outputs": [
    {
     "name": "stdout",
     "output_type": "stream",
     "text": [
      "Pythonリスト処理時間: 0.014595秒\n",
      "NumPy配列処理時間: 0.000986秒\n"
     ]
    }
   ],
   "source": [
    "import time\n",
    "\n",
    "py_start = time.perf_counter()\n",
    "process_py_list(py_list, 1) # 1回処理をする\n",
    "py_time = time.perf_counter() - py_start\n",
    "print(f\"Pythonリスト処理時間: {py_time:.6f}秒\")\n",
    "\n",
    "np_start = time.perf_counter()\n",
    "process_np_array(np_array, 1) # 1回処理をする\n",
    "np_time = time.perf_counter() - np_start\n",
    "print(f\"NumPy配列処理時間: {np_time:.6f}秒\")"
   ]
  },
  {
   "cell_type": "markdown",
   "metadata": {},
   "source": [
    "以降、適宜コードセルを追加し、演習を行う。<br>\n",
    "複雑で大きなコードを書くのではなく、結果が得ることが目的なので、自分が扱える程度の小さなコードを書く\n",
    "\n",
    "---"
   ]
  },
  {
   "cell_type": "code",
   "execution_count": 7,
   "metadata": {},
   "outputs": [
    {
     "name": "stdout",
     "output_type": "stream",
     "text": [
      "処理単位が10回のPythonリスト処理時間: 0.107051秒\n",
      "処理単位が10回のNumPy配列処理時間: 0.000527秒\n",
      "処理単位が100回のPythonリスト処理時間: 1.075576秒\n",
      "処理単位が100回のNumPy配列処理時間: 0.004463秒\n",
      "処理単位が1000回のPythonリスト処理時間: 10.900782秒\n",
      "処理単位が1000回のNumPy配列処理時間: 0.044650秒\n"
     ]
    }
   ],
   "source": [
    "count = [10, 100, 1000]\n",
    "py_times = []\n",
    "np_times = []\n",
    "for i in range(3):\n",
    "    for _ in range(5):\n",
    "        py_start = time.perf_counter()\n",
    "        process_py_list(py_list, count[i])\n",
    "        py_time = time.perf_counter() - py_start\n",
    "        py_times.append(py_time)\n",
    "\n",
    "        np_start = time.perf_counter()\n",
    "        process_np_array(np_array, count[i])\n",
    "        np_time = time.perf_counter() - np_start\n",
    "        np_times.append(np_time)\n",
    "        \n",
    "\n",
    "    py_times.sort()\n",
    "    np_times.sort()\n",
    "\n",
    "    py_ave = np.sum(py_times[:3])/3\n",
    "    np_ave = np.sum(np_times[:3])/3\n",
    "\n",
    "    print(f\"処理単位が{count[i]}回のPythonリスト処理時間: {py_time:.6f}秒\")\n",
    "    print(f\"処理単位が{count[i]}回のNumPy配列処理時間: {np_time:.6f}秒\")"
   ]
  },
  {
   "cell_type": "markdown",
   "metadata": {},
   "source": [
    "----\n",
    "演習のコードはここまで"
   ]
  },
  {
   "cell_type": "markdown",
   "metadata": {},
   "source": [
    "# 報告　（300字以内）\n",
    "計測結果を記録し、考察をしよう。NumPyは計測結果から標準のPythonより速い／速くないのか。どうしてそのような結果になるかを講義スライドやノートブックから読み取ろう\n",
    "## 計測結果\n",
    "- 処理単位が10回のPythonリスト処理時間: 0.107051秒\n",
    "- 処理単位が10回のNumPy配列処理時間: 0.000527秒\n",
    "- 処理単位が100回のPythonリスト処理時間: 1.075576秒\n",
    "- 処理単位が100回のNumPy配列処理時間: 0.004463秒\n",
    "- 処理単位が1000回のPythonリスト処理時間: 10.900782秒\n",
    "- 処理単位が1000回のNumPy配列処理時間: 0.044650秒\n",
    "\n",
    "## 考察\n",
    "NumPyが標準のPythonリストより高速である理由は以下の通りである。  \n",
    "**内部実装の違い**: NumPyはC言語で実装されており、低レベルの最適化が施されているため、計算が効率的に行われる。\n",
    "\n",
    ">> 計算時間の大半はPythonではなくC言語によるネイティブコードで実行されるようになり大幅に高速化する。  \n",
    "\n",
    "[参考資料](https://ja.wikipedia.org/wiki/NumPy)  \n",
    "**ベクトル化演算**: NumPyはループを使用せず、配列全体に対して一括で演算を行うベクトル化を採用している。これにより、Pythonのインタプリタによるオーバーヘッドが削減される。  \n",
    "**データ型の統一**: NumPy配列は固定されたデータ型（例: int32）を持つため、メモリ効率が良く、キャッシュの利用効率も向上する。一方、Pythonリストは異なる型を格納できるため、処理が遅くなる。  \n",
    "\n",
    "以上の理由から、NumPyは大規模データの処理において特に有利である。"
   ]
  }
 ],
 "metadata": {
  "kernelspec": {
   "display_name": "AI-DS",
   "language": "python",
   "name": "python3"
  },
  "language_info": {
   "codemirror_mode": {
    "name": "ipython",
    "version": 3
   },
   "file_extension": ".py",
   "mimetype": "text/x-python",
   "name": "python",
   "nbconvert_exporter": "python",
   "pygments_lexer": "ipython3",
   "version": "3.11.11"
  }
 },
 "nbformat": 4,
 "nbformat_minor": 2
}
