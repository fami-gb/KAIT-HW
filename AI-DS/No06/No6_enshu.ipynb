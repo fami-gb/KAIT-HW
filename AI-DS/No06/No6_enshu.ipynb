{
 "cells": [
  {
   "cell_type": "markdown",
   "metadata": {},
   "source": [
    "# 第6回 演習"
   ]
  },
  {
   "cell_type": "code",
   "execution_count": 1,
   "metadata": {},
   "outputs": [
    {
     "data": {
      "text/plain": [
       "'%.3f'"
      ]
     },
     "execution_count": 1,
     "metadata": {},
     "output_type": "execute_result"
    }
   ],
   "source": [
    "# 以下のライブラリを使うので、あらかじめ読み込んでおいてください\n",
    "import numpy as np\n",
    "import numpy.random as random\n",
    "import scipy as sp\n",
    "import pandas as pd\n",
    "from pandas import Series,DataFrame\n",
    "\n",
    "# 可視化ライブラリ\n",
    "import matplotlib.pyplot as plt\n",
    "import matplotlib as mpl\n",
    "import seaborn as sns\n",
    "%matplotlib inline\n",
    "\n",
    "# 小数第３位まで表示\n",
    "%precision 3"
   ]
  },
  {
   "cell_type": "markdown",
   "metadata": {},
   "source": [
    "### ■問題　6-1　データの操作と変換\n",
    "\n",
    "（1）数学の成績を示すデータである「student-mat.csv」を読み込んで、データフレームstudent_data_mat_dfに変換してください。次にデータフレーム先頭10行を表示して縦横サイズとカラム（列）の情報を取得してください。本ファイルのセパレータは';'です。"
   ]
  },
  {
   "cell_type": "code",
   "execution_count": 3,
   "metadata": {},
   "outputs": [
    {
     "name": "stdout",
     "output_type": "stream",
     "text": [
      "(395, 33)\n",
      "Index(['school', 'sex', 'age', 'address', 'famsize', 'Pstatus', 'Medu', 'Fedu',\n",
      "       'Mjob', 'Fjob', 'reason', 'guardian', 'traveltime', 'studytime',\n",
      "       'failures', 'schoolsup', 'famsup', 'paid', 'activities', 'nursery',\n",
      "       'higher', 'internet', 'romantic', 'famrel', 'freetime', 'goout', 'Dalc',\n",
      "       'Walc', 'health', 'absences', 'G1', 'G2', 'G3'],\n",
      "      dtype='object')\n",
      "  school sex  age address famsize Pstatus  Medu  Fedu      Mjob      Fjob  \\\n",
      "0     GP   F   18       U     GT3       A     4     4   at_home   teacher   \n",
      "1     GP   F   17       U     GT3       T     1     1   at_home     other   \n",
      "2     GP   F   15       U     LE3       T     1     1   at_home     other   \n",
      "3     GP   F   15       U     GT3       T     4     2    health  services   \n",
      "4     GP   F   16       U     GT3       T     3     3     other     other   \n",
      "5     GP   M   16       U     LE3       T     4     3  services     other   \n",
      "6     GP   M   16       U     LE3       T     2     2     other     other   \n",
      "7     GP   F   17       U     GT3       A     4     4     other   teacher   \n",
      "8     GP   M   15       U     LE3       A     3     2  services     other   \n",
      "9     GP   M   15       U     GT3       T     3     4     other     other   \n",
      "\n",
      "   ... famrel freetime  goout  Dalc  Walc health absences  G1  G2  G3  \n",
      "0  ...      4        3      4     1     1      3        6   5   6   6  \n",
      "1  ...      5        3      3     1     1      3        4   5   5   6  \n",
      "2  ...      4        3      2     2     3      3       10   7   8  10  \n",
      "3  ...      3        2      2     1     1      5        2  15  14  15  \n",
      "4  ...      4        3      2     1     2      5        4   6  10  10  \n",
      "5  ...      5        4      2     1     2      5       10  15  15  15  \n",
      "6  ...      4        4      4     1     1      3        0  12  12  11  \n",
      "7  ...      4        1      4     1     1      1        6   6   5   6  \n",
      "8  ...      4        2      2     1     1      1        0  16  18  19  \n",
      "9  ...      5        5      1     1     1      5        0  14  15  15  \n",
      "\n",
      "[10 rows x 33 columns]\n"
     ]
    }
   ],
   "source": [
    "#ファイル読み取り　ここにコードを追加\n",
    "student_data_math_df = pd.read_csv('student-mat.csv', sep=';')\n",
    "#縦横サイズ　ここにコードを追加\n",
    "print(student_data_math_df.shape)\n",
    "#カラム情報　ここにコードを追加\n",
    "print(student_data_math_df.columns)\n",
    "print(student_data_math_df.head(10))"
   ]
  },
  {
   "cell_type": "markdown",
   "metadata": {},
   "source": [
    "(2)データフレームから'age' 'G1' 'absences'という３つの項目だけを抜き出した新たなデータフレームthree_dfを生成してみましょう。該当するカラムのキーをリストにしてからそれをデータフレームの[]に指定すればよいです。"
   ]
  },
  {
   "cell_type": "code",
   "execution_count": 6,
   "metadata": {},
   "outputs": [
    {
     "name": "stdout",
     "output_type": "stream",
     "text": [
      "     age  G1  absences\n",
      "0     18   5         6\n",
      "1     17   5         4\n",
      "2     15   7        10\n",
      "3     15  15         2\n",
      "4     16   6         4\n",
      "..   ...  ..       ...\n",
      "390   20   9        11\n",
      "391   17  14         3\n",
      "392   21  10         3\n",
      "393   18  11         0\n",
      "394   19   8         5\n",
      "\n",
      "[395 rows x 3 columns]\n"
     ]
    }
   ],
   "source": [
    "# 3項目のカラムだけを抽出してthree_dfを生成　ここにコードを追加\n",
    "three_df = student_data_math_df[['age', 'G1', 'absences']]\n",
    "print(three_df)"
   ]
  },
  {
   "cell_type": "markdown",
   "metadata": {},
   "source": [
    "(3)データフレームthree_df の'age'に着目して全体をソートしてみましょう。また'G1'に着目して全体をソートしてみましょう。左端のrowのインデクスはそのままでOKです。"
   ]
  },
  {
   "cell_type": "code",
   "execution_count": 14,
   "metadata": {},
   "outputs": [
    {
     "name": "stdout",
     "output_type": "stream",
     "text": [
      "ageでソート\n",
      "     age  G1  absences\n",
      "130   15  12         0\n",
      "102   15  10         4\n",
      "103   15   7        26\n",
      "104   15  16         0\n",
      "105   15  10        10\n",
      "-------------------------\n",
      "G1でソート\n",
      "     age  G1  absences\n",
      "248   18   3         8\n",
      "137   16   4         0\n",
      "0     18   5         6\n",
      "1     17   5         4\n",
      "79    16   5        12\n"
     ]
    }
   ],
   "source": [
    "# ageでソート　ここにコードを追加\n",
    "three_df_sorted_by_age = three_df.sort_values(by='age')\n",
    "\n",
    "# G1 でソート　ここにコードを追加\n",
    "three_df_sorted_by_G1 = three_df.sort_values(by='G1')\n",
    "\n",
    "print('ageでソート')\n",
    "print(three_df_sorted_by_age.head(5))\n",
    "print('-'*25)\n",
    "print('G1でソート')\n",
    "print(three_df_sorted_by_G1.head(5))\n"
   ]
  },
  {
   "cell_type": "markdown",
   "metadata": {},
   "source": [
    "(4) three_dfの「`G1`」のカラムについて、以下のビンに分けてcut_dataというデータフレームを作ってください。次に、ビンの人数を数えてください。なお、`cut`のデフォルトの挙動は右側が閉区間ですが、`right=False`のオプションを指定して、右側を開区間としてください。"
   ]
  },
  {
   "cell_type": "code",
   "execution_count": 15,
   "metadata": {},
   "outputs": [
    {
     "name": "stdout",
     "output_type": "stream",
     "text": [
      "G1\n",
      "[10, 15)    188\n",
      "[5, 10)     140\n",
      "[15, 20)     65\n",
      "[0, 5)        2\n",
      "Name: count, dtype: int64\n"
     ]
    }
   ],
   "source": [
    "#　分割の粒度\n",
    "bins = [0, 5, 10, 15, 20]\n",
    "\n",
    "# ビン分割　ここにコードを追加\n",
    "cut_data = pd.cut(three_df['G1'], bins=bins, right=False)\n",
    "#カウント　ここにコードを追加\n",
    "print(cut_data.value_counts())"
   ]
  },
  {
   "cell_type": "markdown",
   "metadata": {},
   "source": [
    "(5)three_dfの「`G1`」のカラムについて、`qcut`を用いて４つのビンに分けてみましょう。"
   ]
  },
  {
   "cell_type": "code",
   "execution_count": null,
   "metadata": {},
   "outputs": [
    {
     "name": "stdout",
     "output_type": "stream",
     "text": [
      "0      (2.999, 8.0]\n",
      "1      (2.999, 8.0]\n",
      "2      (2.999, 8.0]\n",
      "3      (13.0, 19.0]\n",
      "4      (2.999, 8.0]\n",
      "           ...     \n",
      "390     (8.0, 11.0]\n",
      "391    (13.0, 19.0]\n",
      "392     (8.0, 11.0]\n",
      "393     (8.0, 11.0]\n",
      "394    (2.999, 8.0]\n",
      "Name: G1, Length: 395, dtype: category\n",
      "Categories (4, interval[float64, right]): [(2.999, 8.0] < (8.0, 11.0] < (11.0, 13.0] < (13.0, 19.0]]\n",
      "G1\n",
      "(8.0, 11.0]     121\n",
      "(2.999, 8.0]    111\n",
      "(13.0, 19.0]     95\n",
      "(11.0, 13.0]     68\n",
      "Name: count, dtype: int64\n"
     ]
    }
   ],
   "source": [
    "# ビン分割　ここにコードを追加\n",
    "qcut_data = pd.qcut(three_df['G1'], q=4)\n",
    "\n",
    "#カウント　ここにコードを追加\n",
    "print(qcut_data.value_counts())"
   ]
  },
  {
   "cell_type": "markdown",
   "metadata": {},
   "source": [
    "(4)と(5)はどちらも4個のビン分割をした度数分布ですが、各ビンの区間とビンに含まれるデータ数は違います。この差とN分位数の意味を考慮して考察してください。"
   ]
  },
  {
   "cell_type": "markdown",
   "metadata": {},
   "source": [
    " ここに考察を書く<br>\n",
    "- # (4)の場合<br>\n",
    "    pandasのcut()を使った場合は任意に決めた等間隔の区間で区切るためデータの分布が偏りやすいため各区間におけるデータ数が大幅に異なることがあると考えた。\n",
    "- # (5)の場合<br>\n",
    "    pandasのqcut()を使った場合はパラメータqに応じてデータ数が均等になるように区間を自動で決めてくれるため各区間におけるデータ数は均等になると考えた。"
   ]
  },
  {
   "cell_type": "markdown",
   "metadata": {},
   "source": [
    "(5)最初のstudent_data_mat_dfのデータフレームで学校('school'）と性別（`sex`）を軸にして、`G1`、`G2`、`G3`の最大値、最小値をまとめて算出してください。複数の軸で、まずgroupbyを使ってグループ化した新しいデータフレームstudent_data_mat2 を作成します。\n",
    "次に該当するカラム項目だけを.aggメソッドを使って複数関数　max とmin を適用します。複数カラムの指定時には、student_data_mat2[['G1','G2','G3']]のように[]が2重になることに注意しましょう。"
   ]
  },
  {
   "cell_type": "code",
   "execution_count": 21,
   "metadata": {},
   "outputs": [
    {
     "name": "stdout",
     "output_type": "stream",
     "text": [
      "            G1      G2      G3    \n",
      "           max min max min max min\n",
      "school sex                        \n",
      "GP     F    18   4  18   0  19   0\n",
      "       M    19   3  19   0  20   0\n",
      "MS     F    19   6  18   5  19   0\n",
      "       M    15   6  16   5  16   0\n"
     ]
    }
   ],
   "source": [
    "# ここにコードを追加\n",
    "student_data_math_df2 = student_data_math_df.groupby(['school', 'sex'])[['G1', 'G2', 'G3']].agg(['max', 'min'])\n",
    "print(student_data_math_df2)"
   ]
  },
  {
   "attachments": {
    "image.png": {
     "image/png": "[encoded data removed]"
    }
   },
   "cell_type": "markdown",
   "metadata": {},
   "source": [
    "### ■問題6-2 欠損値のあるcsvファイルからデータ計算\n",
    "（１）EXCELで次のような欠損のあるテーブル(各科目のテスト成績)を作り、\"score1.csv\"というファイル名で保存してください。セパレータはコンマ(\",\")で文字コードはUTF-8とします。（ファイルは用意されています）\n",
    "\n",
    "![image.png](attachment:image.png)\n"
   ]
  },
  {
   "attachments": {
    "image.png": {
     "image/png": "[encoded data removed]"
    }
   },
   "cell_type": "markdown",
   "metadata": {},
   "source": [
    "（2）EXCELで同様に次のような欠損のあるテーブルを作り、\"score2.csv\"というファイル名で保存してください。セパレータはコンマ(\",\")で文字コードはUTF-8とします。（ファイルは用意されています）\n",
    "\n",
    "![image.png](attachment:image.png)"
   ]
  },
  {
   "cell_type": "markdown",
   "metadata": {},
   "source": [
    "（3）\"score1.csv\"と\"score2.csv\"をpandasで読み込んでDataFrameに変換してください。それぞれdf1,df2という変数名にします。"
   ]
  },
  {
   "cell_type": "code",
   "execution_count": 24,
   "metadata": {},
   "outputs": [],
   "source": [
    "#ここにコードを追加\n",
    "df1 = pd.read_csv('score1.csv', sep=',')\n",
    "df2 = pd.read_csv('score2.csv', sep=',')"
   ]
  },
  {
   "cell_type": "markdown",
   "metadata": {},
   "source": [
    "(4) 特定の科目を受けていない学生もいますが、学生全員の成績表を作りたいと思います。この場合に、df1とdf2を適当な方法で結合して新たなデータフレームdf_mergeを作ってください。（merge how='outer'を使う）"
   ]
  },
  {
   "cell_type": "code",
   "execution_count": 25,
   "metadata": {},
   "outputs": [
    {
     "name": "stdout",
     "output_type": "stream",
     "text": [
      "    id  数学_x    英語    国語  数学_y    理科    情報\n",
      "0  Aさん  90.0  40.0  60.0  90.0  40.0  60.0\n",
      "1  Bさん   NaN  30.0  90.0   NaN  30.0  90.0\n",
      "2  Cさん  40.0  70.0  30.0   NaN   NaN   NaN\n",
      "3  Dさん  65.0   NaN  20.0   NaN   NaN   NaN\n",
      "4  Eさん   NaN   NaN   NaN  45.0  70.0  30.0\n",
      "5  Fさん   NaN   NaN   NaN  80.0   NaN  20.0\n"
     ]
    }
   ],
   "source": [
    "#ここにコードを追加\n",
    "df_merge = pd.merge(df1, df2, on='id', how='outer')\n",
    "print(df_merge)"
   ]
  },
  {
   "cell_type": "markdown",
   "metadata": {},
   "source": [
    "(5) 表には多くの欠損値があるので、これを適当な方法で穴埋めしてください。どのような方法が適当でしょうか？考察して実行してください。<br>\n",
    "・ヒント（各教科の平均で穴埋めする方針）：<br>\n",
    "idの列(Column)は量的データではないので一度に平均値で埋めることはできません。\n",
    "まず各科目の項目だけのデータフレームを作成し各科目の項目だけを項目の平均で穴埋めします。\n",
    "最後にidの項目と穴埋めしたデータフレームとを単純に横に結合すればよいです。<br>\n",
    "pd.concat([A,B], axis=1)を使います。"
   ]
  },
  {
   "cell_type": "markdown",
   "metadata": {},
   "source": [
    "#ここに考察を書く<br>\n",
    "テスト結果において欠席などをした際はそのテストの点数は0点として扱うのが公平であると考えた。  \n",
    "NaNとなってしまっている教科については0を補うことでデータの整合性をとるのが良いと考えた。  \n",
    "しかし、もしDB側のバグなどで受験をしたのにデータが破損してしまっている場合はそれもまた公平ではないのでその場合は周りの生徒との差がつかないように平均値をとってNaNを埋めるのが良いと考えた。  \n",
    "今回はデータ欠損があまりにも多くDB側のバグとして扱うことにする。(平均値で埋める)"
   ]
  },
  {
   "cell_type": "code",
   "execution_count": 26,
   "metadata": {},
   "outputs": [
    {
     "name": "stdout",
     "output_type": "stream",
     "text": [
      "    id  数学_x         英語    国語       数学_y         理科    情報\n",
      "0  Aさん  90.0  40.000000  60.0  90.000000  40.000000  60.0\n",
      "1  Bさん  65.0  30.000000  90.0  71.666667  30.000000  90.0\n",
      "2  Cさん  40.0  70.000000  30.0  71.666667  46.666667  50.0\n",
      "3  Dさん  65.0  46.666667  20.0  71.666667  46.666667  50.0\n",
      "4  Eさん  65.0  46.666667  50.0  45.000000  70.000000  30.0\n",
      "5  Fさん  65.0  46.666667  50.0  80.000000  46.666667  20.0\n"
     ]
    }
   ],
   "source": [
    "#ここにコードを追加\n",
    "#注意：idの列(Column)は量的データではないので一度に平均値で埋めることはできない\n",
    "subject_df = df_merge.drop('id', axis=1)\n",
    "subject_fillna_df = subject_df.fillna(subject_df.mean())\n",
    "df_merge_fill = pd.concat([df_merge['id'], subject_fillna_df], axis=1)\n",
    "print(df_merge_fill)"
   ]
  }
 ],
 "metadata": {
  "anaconda-cloud": {},
  "kernelspec": {
   "display_name": "AI-DS",
   "language": "python",
   "name": "python3"
  },
  "language_info": {
   "codemirror_mode": {
    "name": "ipython",
    "version": 3
   },
   "file_extension": ".py",
   "mimetype": "text/x-python",
   "name": "python",
   "nbconvert_exporter": "python",
   "pygments_lexer": "ipython3",
   "version": "3.11.11"
  }
 },
 "nbformat": 4,
 "nbformat_minor": 1
}
